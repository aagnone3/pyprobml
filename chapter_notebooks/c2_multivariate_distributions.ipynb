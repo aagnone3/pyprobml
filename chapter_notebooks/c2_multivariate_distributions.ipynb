{
 "cells": [
  {
   "cell_type": "markdown",
   "metadata": {},
   "source": [
    "# Joint Probability Distributions\n",
    "Joint probability distributions have the form $p(x_1,...x_D)$ for $D>1$ variables."
   ]
  },
  {
   "cell_type": "markdown",
   "metadata": {},
   "source": [
    "### Discrete Joint Probability Distributions\n",
    "- <b>Representation:</b> multi-dimensional array, needing $O(K^D)$ variables for $D$ dimensions with $K$ states per variable.\n",
    "- <b>Parametrization Technique:</b> conditional independence assumptions"
   ]
  },
  {
   "cell_type": "markdown",
   "metadata": {},
   "source": [
    "### Continuous Joint Probability Distributions\n",
    "- <b>Representation:</b>multi-dimensional continuous space, needing $O(\\infty ^ D)$ variables for $D$ dimensions with $\\infty$ states per variable.\n",
    "- <b>Parametrization Technique:</b> assume a functional form for the joint pdf."
   ]
  },
  {
   "cell_type": "markdown",
   "metadata": {},
   "source": [
    "# Covariance and Correlation\n",
    "The covariance between random variables $X$ and $Y$ measures the degree to which $X$ and $Y$ are <b>linearly</b> related. The covariance is defined as follows:\n",
    "\n",
    "$$\n",
    "\\begin{align}\n",
    "Cov[X,Y] &= E[(X-E[X])(Y-E[Y])] \\\\\n",
    "         &= E[XY] - E[X]E[Y]\n",
    "\\end{align}\n",
    "$$\n",
    "\n",
    "There are many examples in which clear examples of inter-dependent random variables have $Cov[X,Y] = 0$. One is $X\\sim U[-1,1]$ and $Y=X^2$. A more general measure of dependence is mutual information."
   ]
  },
  {
   "cell_type": "code",
   "execution_count": null,
   "metadata": {},
   "outputs": [],
   "source": []
  }
 ],
 "metadata": {
  "kernelspec": {
   "display_name": "Python [default]",
   "language": "python",
   "name": "python2"
  },
  "language_info": {
   "codemirror_mode": {
    "name": "ipython",
    "version": 2
   },
   "file_extension": ".py",
   "mimetype": "text/x-python",
   "name": "python",
   "nbconvert_exporter": "python",
   "pygments_lexer": "ipython2",
   "version": "2.7.13"
  }
 },
 "nbformat": 4,
 "nbformat_minor": 2
}
