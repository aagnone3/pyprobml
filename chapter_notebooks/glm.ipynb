{
 "cells": [
  {
   "cell_type": "markdown",
   "metadata": {},
   "source": [
    "# Generalized Linear Models\n",
    "Many probability distributions can be generalized into the \"exponential family.\""
   ]
  },
  {
   "cell_type": "markdown",
   "metadata": {},
   "source": [
    "### The exponential family\n",
    "A pdf $p(x|\\theta)$ for $\\{x_1..x_m\\}$ and $\\theta$ in $R^D$ is in the exponential family if it can be written in the form\n",
    "$$\n",
    "\\begin{align}\n",
    "    p(x|\\theta) &= \\frac 1 {Z(\\theta)} h(x) e^{\\theta^T \\phi(x)} \\\\\n",
    "                &= h(x) e^{\\theta^T \\phi(x) - A(\\theta)} \\\\\n",
    "      Z(\\theta) &= \\int_{\\chi^m} h(x) e^{\\theta^T \\phi(x)} dx \\\\\n",
    "      A(\\theta) &= log Z(\\theta)\n",
    "\\end{align}\n",
    "$$\n",
    "\n",
    "| Parameter | Description |\n",
    "|---------- | ----------- |\n",
    "| $\\theta$ | natural/canonical parameters |\n",
    "| $\\phi(x) \\in R^D$ | vector of sufficient statistics |\n",
    "| $Z(\\theta)$ | partition function |\n",
    "| $A(\\theta)$ | log partition/cumulant function |\n",
    "| h(x) | scaling constant |"
   ]
  },
  {
   "cell_type": "markdown",
   "metadata": {},
   "source": [
    "### Bernoulli as a Subset of the Exponential Family\n",
    "Recall the Bernoulli distribution as\n",
    "$$\n",
    "\\begin{align}\n",
    "P(x|\\mu) &= \\mu^{I(x=0)} (1 - \\mu)^{I(x=1)} \\\\\n",
    "            &= \\mu^x (1 - \\mu)^{1-x} \\\\\n",
    "            &= e^{x\\ ln\\mu} e^{(1-x)\\ ln(1-\\mu)} \\\\\n",
    "            &= e^{x\\ ln\\mu + (1-x)\\ ln(1-\\mu)} \\\\\n",
    "            &= e^{\\theta^T \\phi(x)}\n",
    "\\end{align}\n",
    "$$\n",
    "\n",
    "where the canonical parameters $\\theta$ are \n",
    "\n",
    "$$\n",
    "\\theta = [ln(\\mu),\\ ln(1 - \\mu)]\n",
    "$$\n",
    "\n",
    "and the vector of sufficient statistics $\\phi(x)$ is\n",
    "\n",
    "$$\n",
    "\\begin{align}\n",
    "\\phi(x) &= [x,\\ 1-x] \\\\\n",
    "        &= [I(x=0),\\ I(x=1)]\n",
    "\\end{align}\n",
    "$$"
   ]
  },
  {
   "cell_type": "markdown",
   "metadata": {},
   "source": [
    "An interesting note here is that the representation $P(x|\\mu) = e^{\\mu^T \\phi(x)}$ in this way is _over-complete_ for the Bernoulli distribution. This isn't hard to see: we are using 2 entries in $\\theta$ and $\\phi(x)$ to describe the distribution, when knowing the value of one immediately gives us the value of the other. This is generally not desirable, as means that the canonical parameters $\\theta$ cannot be uniquely determined from a distribution.\n",
    "\n",
    "A way around this is to define the distribution as follows:\n",
    "$$\n",
    "P(x|\\mu) = (1-\\mu)e^{\\left [x\\ ln \\frac {\\mu} {1-\\mu} \\right ]}\n",
    "$$\n",
    "\n",
    "now we have single values for the exponential family descriptors:\n",
    "\n",
    "$$\n",
    "\\phi(x) = x \\\\\n",
    "\\theta = ln \\left [ \\frac {\\mu} {1-\\mu} \\right ] \\\\\n",
    "Z = \\frac 1 {1-\\mu}\n",
    "$$\n"
   ]
  },
  {
   "cell_type": "markdown",
   "metadata": {},
   "source": [
    "You may recognize $\\theta$ as the ubiguitous log-odds ratio. If we solve this for $\\mu$, the mean parameter of the Bernoulli distribution, we get\n",
    "$$\n",
    "\\begin{align}\n",
    "\\mu &= \\frac {e^{\\theta}} {e^{\\theta} + 1} \\\\\n",
    "    &= \\frac {1} {1 + e^{-\\theta}} \\\\\n",
    "    &= sigm(\\theta)\n",
    "\\end{align}\n",
    "$$"
   ]
  },
  {
   "cell_type": "markdown",
   "metadata": {},
   "source": [
    "### High-level Points\n",
    "* The log-odds ratio is the canonical parameter for the Bernoulli distribution\n",
    "* The mean parameter of the Bernoulli distribution is the sigmoid of its canonical parameter, the log-odds ratio\n",
    "* The sigmoid function transforms the log-odds ratio into the mean parameter"
   ]
  },
  {
   "cell_type": "code",
   "execution_count": null,
   "metadata": {},
   "outputs": [],
   "source": []
  }
 ],
 "metadata": {
  "kernelspec": {
   "display_name": "Python [default]",
   "language": "python",
   "name": "python2"
  },
  "language_info": {
   "codemirror_mode": {
    "name": "ipython",
    "version": 2
   },
   "file_extension": ".py",
   "mimetype": "text/x-python",
   "name": "python",
   "nbconvert_exporter": "python",
   "pygments_lexer": "ipython2",
   "version": "2.7.13"
  }
 },
 "nbformat": 4,
 "nbformat_minor": 2
}
