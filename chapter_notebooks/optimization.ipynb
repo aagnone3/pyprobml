{
 "cells": [
  {
   "cell_type": "code",
   "execution_count": 1,
   "metadata": {
    "collapsed": true
   },
   "outputs": [],
   "source": [
    "import os\n",
    "import numpy as np\n",
    "import pandas as pd\n",
    "import matplotlib.pyplot as plt\n",
    "from numpy.linalg import (\n",
    "    norm,\n",
    "    inv\n",
    ")\n",
    "%matplotlib inline\n"
   ]
  },
  {
   "cell_type": "code",
   "execution_count": 14,
   "metadata": {},
   "outputs": [
    {
     "data": {
      "text/plain": [
       "<matplotlib.contour.QuadContourSet at 0x7f1500a52080>"
      ]
     },
     "execution_count": 14,
     "metadata": {},
     "output_type": "execute_result"
    },
    {
     "data": {
      "image/png": "[encoded data removed]",
      "text/plain": [
       "<matplotlib.figure.Figure at 0x7f1500ac9550>"
      ]
     },
     "metadata": {},
     "output_type": "display_data"
    }
   ],
   "source": [
    "def f(theta):\n",
    "    return np.sum((theta**3 - theta**2) + 200 * theta**2)\n",
    "#     return (theta ** 3).dot(np.ones(len(theta)))\n",
    "\n",
    "def g(theta):\n",
    "    return 2*theta\n",
    "\n",
    "def grid_eval(f, x1, x2):\n",
    "    return np.array(\n",
    "        [\n",
    "            f(np.array([x1, y1]))\n",
    "            for x1 in x\n",
    "            for y1 in y\n",
    "        ]\n",
    "    ).reshape((len(x1), len(x2)))\n",
    "\n",
    "n_axis_points = 100\n",
    "x = np.linspace(-1e2, 1e2, n_axis_points)\n",
    "y = np.linspace(-1e2, 1e2, n_axis_points)\n",
    "z = grid_eval(f, x, y)\n",
    "plt.contourf(x, y, z)\n"
   ]
  },
  {
   "cell_type": "code",
   "execution_count": 24,
   "metadata": {},
   "outputs": [
    {
     "name": "stdout",
     "output_type": "stream",
     "text": [
      "Reached convergence criterion after 76.\n"
     ]
    },
    {
     "data": {
      "text/plain": [
       "<matplotlib.collections.PathCollection at 0x7f150006de80>"
      ]
     },
     "execution_count": 24,
     "metadata": {},
     "output_type": "execute_result"
    },
    {
     "data": {
      "image/png": "[encoded data removed]",
      "text/plain": [
       "<matplotlib.figure.Figure at 0x7f1500186828>"
      ]
     },
     "metadata": {},
     "output_type": "display_data"
    }
   ],
   "source": [
    "class LineSearch(object):\n",
    "    \n",
    "    def __init__(self, f, g, max_n_iter=1000, min_delta=1e-6):\n",
    "        self.f = f\n",
    "        self.g = g\n",
    "        self.max_n_iter = 1000\n",
    "        self.min_delta = 1e-6\n",
    "        \n",
    "    def run(self, init, learning_rate):\n",
    "        theta = init\n",
    "        n_iter = 0\n",
    "        norm_delta = np.inf\n",
    "        while n_iter < self.max_n_iter and norm_delta > self.min_delta:\n",
    "            n_iter += 1\n",
    "            last_theta = theta\n",
    "            theta = theta - learning_rate * g(theta)\n",
    "            plt.scatter(*theta, color='r', marker='.')\n",
    "            norm_delta = norm(last_theta - theta)\n",
    "            if norm_delta < self.min_delta:\n",
    "                print(\"Reached convergence criterion after {}.\".format(n_iter))\n",
    "            elif n_iter == self.max_n_iter:\n",
    "                print(\"Reached max # iterations.\")\n",
    "        return theta\n",
    "    \n",
    "n_axis_points = 100\n",
    "x = np.linspace(-1e2, 1e2, n_axis_points)\n",
    "y = np.linspace(-1e2, 1e2, n_axis_points)\n",
    "z = grid_eval(f, x, y)\n",
    "plt.contourf(x, y, z)\n",
    "\n",
    "prog = LineSearch(f, g)\n",
    "init = np.array([50, 78])\n",
    "plt.scatter(*init, color='r', marker='.')\n",
    "opt = prog.run(init, 0.1)\n",
    "plt.scatter(*opt, color='r', marker='.')\n",
    "    "
   ]
  },
  {
   "cell_type": "code",
   "execution_count": null,
   "metadata": {
    "collapsed": true
   },
   "outputs": [],
   "source": []
  }
 ],
 "metadata": {
  "kernelspec": {
   "display_name": "Python 3",
   "language": "python",
   "name": "python3"
  },
  "language_info": {
   "codemirror_mode": {
    "name": "ipython",
    "version": 3
   },
   "file_extension": ".py",
   "mimetype": "text/x-python",
   "name": "python",
   "nbconvert_exporter": "python",
   "pygments_lexer": "ipython3",
   "version": "3.6.3"
  }
 },
 "nbformat": 4,
 "nbformat_minor": 2
}
