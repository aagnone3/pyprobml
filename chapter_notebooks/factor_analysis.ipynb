{
 "cells": [
  {
   "cell_type": "markdown",
   "metadata": {},
   "source": [
    "# Factor Analysis\n",
    "asldfkjaslkfjalsdkjflaskdjflksajf\n",
    "\n",
    "### Recap: Gaussian Mixture Modeling\n",
    "Let's recap the Gaussian mixture modeling approach. With mixture modeling, we assume that the data distribution is determined by **only one** of $K$ constituent distributions. Specifically,\n",
    "\n",
    "\\begin{align}\n",
    "    p(z_i=k)          &= Cat(\\pi) \\\\\n",
    "    p(x_i|z_i,\\theta) &= N(x_i|\\mu_k,\\theta_k) \\\\\n",
    "    p(x_i|\\theta)     &= \\sum_{k=1}^K p(z_i=k)p(x_i|z_i,\\theta) \\\\\n",
    "                      &= \\sum_{k-1}^K \\pi_k N(x_i|\\mu_k,\\theta_k)\n",
    "\\end{align}\n",
    "\n",
    "### Improvement: Factor Analysis\n",
    "The weakness of the mixture modeling approach is the modeling of the latent variables with a categorical distribution. Even though you have probabilities of each constituent distribution forming the final data distribution estimate, the underlying \"statement\" is that only one of the constituent distributions truly contributes to the overall distribution.\n",
    "\n",
    "Let's relax that assumption, and claim instead that the latent priors are continuous and Gaussian. For simplicity, we also model the conditional likelihood as Gaussian.\n",
    "\n",
    "\\begin{align}\n",
    "    p(z_i=k) &= N(z_i|\\mu_0, \\Sigma_0) \\\\\n",
    "    p(x_i|z_i,\\theta) &= N(x_i|W z_i + \\mu, \\Psi) \\\\\n",
    "    p(x_i|\\theta) &= \\int p(z_i=k) p(x_i|z_i,\\theta) dz_i \\\\\n",
    "                  &= \\int N(z_i|\\mu_0, \\Sigma_0) N(x_i|Wz_i + \\mu, \\Psi) dz \\\\\n",
    "                  &= \\int N(x_i|W \\mu_0 + \\mu, \\Psi + W \\Sigma_0 W^T)\n",
    "\\end{align}"
   ]
  },
  {
   "cell_type": "code",
   "execution_count": null,
   "metadata": {},
   "outputs": [],
   "source": []
  }
 ],
 "metadata": {
  "kernelspec": {
   "display_name": "Python [default]",
   "language": "python",
   "name": "python2"
  },
  "language_info": {
   "codemirror_mode": {
    "name": "ipython",
    "version": 2
   },
   "file_extension": ".py",
   "mimetype": "text/x-python",
   "name": "python",
   "nbconvert_exporter": "python",
   "pygments_lexer": "ipython2",
   "version": "2.7.13"
  }
 },
 "nbformat": 4,
 "nbformat_minor": 2
}
