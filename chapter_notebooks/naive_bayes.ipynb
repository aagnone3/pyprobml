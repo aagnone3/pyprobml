{
 "cells": [
  {
   "cell_type": "markdown",
   "metadata": {},
   "source": [
    "# Naive Bayes\n",
    "Naive Bayes models make the (naive) assumption that, once we know the class for a data point, the features are independent.\n",
    "\n",
    "Assume data vectors $x\\in\\{1,...,K\\}^D$, where $K$ is the number of values (classes) each data point can take on, and $D$ is the dimension of the feature vectors.\n",
    "\n",
    "The benefit of the naive conditional independence assumption is that we can write the class-conditional distribution of the feature <b>vector</b> as a product of the single-dimension feature distributions:\n",
    "\n",
    "$$\n",
    "p(x|y=c,\\theta) = \\prod_{j=1}^D p(x_j|y=c,\\theta_{jc})\n",
    "$$\n",
    "\n",
    "It is rarely, if ever, the case that the features are truly independent. However, the naive bayes model only has $O(KD)$ parameters, and is therefore rather robust against overfitting. The problems with this model come sooner with under-fitting, when it cannot sufficiently model correlations between features."
   ]
  },
  {
   "cell_type": "code",
   "execution_count": null,
   "metadata": {},
   "outputs": [],
   "source": []
  },
  {
   "cell_type": "code",
   "execution_count": null,
   "metadata": {},
   "outputs": [],
   "source": []
  }
 ],
 "metadata": {
  "kernelspec": {
   "display_name": "Python [default]",
   "language": "python",
   "name": "python2"
  },
  "language_info": {
   "codemirror_mode": {
    "name": "ipython",
    "version": 2
   },
   "file_extension": ".py",
   "mimetype": "text/x-python",
   "name": "python",
   "nbconvert_exporter": "python",
   "pygments_lexer": "ipython2",
   "version": "2.7.13"
  }
 },
 "nbformat": 4,
 "nbformat_minor": 2
}
