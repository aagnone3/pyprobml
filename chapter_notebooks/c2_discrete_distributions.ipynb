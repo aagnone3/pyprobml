{
 "cells": [
  {
   "cell_type": "code",
   "execution_count": 7,
   "metadata": {},
   "outputs": [],
   "source": [
    "%matplotlib inline\n",
    "import os\n",
    "from os import path\n",
    "import numpy as np\n",
    "import pandas as pd\n",
    "import seaborn as sns\n",
    "import matplotlib.pyplot as plt\n",
    "from scipy import stats\n"
   ]
  },
  {
   "cell_type": "markdown",
   "metadata": {},
   "source": [
    "# Binomial and Bernoulli Distributions\n",
    "The Binomial and Bernoulli distributions both deal with the probability of events with binary outcomes. The Bernoulli distribution is just a special case of the Binomial distribution, where the event only occurs once.\n",
    "\n",
    "### The Bernoulli Distribution\n",
    "Say you toss a coin a single (n=1) time. The event X has exactly two possible outcomes. If $\\theta$ is the probability of the coin landing on heads, then X follows a Bernoulli distribution $Ber(x|\\theta)$, shown below.\n",
    "\n",
    "$$\n",
    "\\begin{align}\n",
    "Ber(x\\ |\\ \\theta)   &= \\theta^{I(x=1)}\\ (1-\\theta)^{I(x=0)} \\\\\n",
    "                &= \\left \\lbrace\n",
    "                       \\begin{array}{ll}\n",
    "                       \\theta    & if\\ x=1 \\\\\n",
    "                       1 - \\theta & if\\ x=0\n",
    "                       \\end{array}\n",
    "                   \\right.\n",
    "                \\end{align}\n",
    "$$\n",
    "\n",
    "### The Binomial Distribution\n",
    "Say you toss a coin several (n) times. Each event X has exactly two possible outcomes. If $\\theta$ is the probability of the coin landing on heads, then X follows a Binomial distribution $X$ ~ $ Bin(n,\\theta)$. The probability mass function for the binomial distribution is \n",
    "\n",
    "$$\n",
    "Bin(k\\ |\\ n,\\ \\theta) = \\binom nk\\ \\theta^k\\ (1-\\theta)^{n-k}\n",
    "$$\n",
    "The expression $\\binom n k = \\frac {n!} {(n-k)!k!}$ (referred to as \"n choose k\") is the number of different ways you can choose k items from n items.\n",
    "\n",
    "The Binomial distribution has the following mean and variance:\n",
    "$$\n",
    "\\begin{align}\n",
    "    \\mu &= \\theta \\\\\n",
    "    \\sigma^2 &= n \\theta (1 - \\theta)\n",
    "\\end{align}\n",
    "$$\n",
    "The makes intuitive sense: through multiple trials with a binary outcome, the confidence you place in the positive outcome is always the probability of the positive outcome, regardless of how many times that trial has been done before. Furthermore, aside from the more intrinsic variance factor $\\theta (1 - \\theta)$, the variance in the samples as you take more and more increases linearly with how many samples you decide to take."
   ]
  },
  {
   "cell_type": "markdown",
   "metadata": {},
   "source": [
    "#### Example\n",
    "You start tossing a biased coin, and the coin is biased to land on heads 65% of the time. Therefore, $\\theta = 0.65$. Since the coin has a binary outcome (not considering it landing standing up), <strong>each</strong> toss of the coin follows a Bernoulli distribution with $\\theta = 0.65$. However, say you toss the coin $N$ times. The probability distribution for any event that involves <strong>multiple</strong> tosses of the coin will be a Binomial distribution with $\\theta = 0.65$, $n = N$.\n",
    "\n",
    "Say $N = 7$, and we want to know the probability of the coin landing on heads 4 times. Using the Binomial distribution,\n",
    "$$\n",
    "\\begin{align}\n",
    "n = 7,\\ \\theta = 0.65,\\ k = 4 \\\\\n",
    "Bin(k\\ |\\ n,\\ \\theta) &= \\binom n k\\ \\theta^k\\ (1-\\theta)^{n-k} \\\\\n",
    "                      &= \\binom 7 4\\ (0.65)^4\\ (0.35)^3 \\\\\n",
    "                      &= (35)\\ (0.1785)\\ (0.0429) \\\\\n",
    "                      &= 0.268\n",
    "\\end{align}\n",
    "$$\n",
    "\n",
    "Breaking line 3 down, we see that under the Binomial distribution, the expected number of positive outcomes (coin on heads) is the product of 3 terms:\n",
    "- How many different ways the $k$ positive outcomes can happen across the $n$ trials\n",
    "- The probability that the positive outcome indeed happens $k$ times\n",
    "- The probability that the negative outcome indeed happens the remaining $n-k$ times\n",
    "\n"
   ]
  },
  {
   "cell_type": "markdown",
   "metadata": {},
   "source": [
    "# Multinomial and Multinoulli Distributions\n",
    "The Muiltinomial and Multinoulli distributions both deal with the probability of events with $k$ outcomes. The Multinoulli distribution is just a special case of the Multinomial distribution, where the event only occurs once. This is an obvious generalization of the Binomial and Bernoulli distributions, respectively, to the case of non-binary outcomes.\n",
    "\n",
    "Let $\\mathbf{x} = (x_1...x_K)$ be the random vector associated with an event with $K$ discrete outcomes. Here, $x_j$ holds the number of times the $j_{th}$ event occurs. The distribution for $N$ such events is as follows:\n",
    "\n",
    "$$\n",
    "Mu(\\mathbf{x}|n,\\mathbf{\\theta}) = \\binom n {x_1...x_K} \\prod_{j=1}^K \\theta_j^{x_j} \\\\\n",
    "\\theta_j:\\ P(event\\ j\\ occurs) \\\\\n",
    "\\binom n {x_1...x_K}=\\frac {n!} {x_1 ! x_2 ! ... x_K !}: multinomial\\ coefficient\n",
    "$$\n",
    "\n",
    "The multinomial coefficient is the number of ways that we can divide a set of size n into subsets with sizes $x_1$ up to $x_k$. Once we know this, we simply weight that by the expectations of each outcome over the $n$ trials.\n",
    "\n",
    "In the Multinoulli case (n=1 sample), the $x$ vector reduces to a one-hot encoding of the $k$ outcomes, since only one entry is non-zero. The multinomial coefficient reduces to 1, and the exponents in the product become a simple indicator function evaluation. This distribution is also commonly referred to as a \"discrete\" or \"categorical\" distribution.\n",
    "\n",
    "$$\n",
    "Mu(\\mathbf{x}|1,\\mathbf{\\theta}) = Cat(\\mathbf{x}|1,\\mathbf{\\theta}) = \\prod_j^K \\theta^{I(x_j=1)}\n",
    "$$"
   ]
  },
  {
   "cell_type": "markdown",
   "metadata": {},
   "source": [
    "# The Poisson Distribution\n",
    "The Poisson distribution is a discrete distribution which models the number of times an event occurs within a given interval under the following conditions: <br/>\n",
    "1) The event occurs with a known, constant rate. <br/>\n",
    "2) Each occurence of the event is independent from other events in the interval. <br/>\n",
    "\n",
    "Specifically, $X \\in {0,1,2,...}$ follows a Poisson distribution with $\\lambda > 0$ if its probability mass function is\n",
    "\n",
    "$$\n",
    "Poi(x|\\lambda) = e^{-\\lambda} \\frac {\\lambda^x} {x!}\n",
    "$$\n",
    "\n",
    "The first term is a normalization constant to make the expression a probability.\n",
    "TODO more info.\n"
   ]
  },
  {
   "cell_type": "markdown",
   "metadata": {},
   "source": [
    "# The Empirical Distribution\n",
    "The Empirical distribution is a glorified counter: it simply represents the ratio of occurrences for each element in its set, and has zero probability mass for unseen set members.\n",
    "\n",
    "$$\n",
    "\\begin{align}\n",
    "    p_{emp}(A) &= \\frac 1 N \\sum_{i=1}^N \\delta_{x_i}(A) \\\\\n",
    "    \\delta_x(A) &= \\left \\lbrace\n",
    "                       \\begin{array}{ll}\n",
    "                       1    & if\\ x\\ \\in A \\\\\n",
    "                       0    & if\\ x\\ \\notin A\n",
    "                       \\end{array}\n",
    "                   \\right.\n",
    "\\end{align}\n",
    "$$"
   ]
  }
 ],
 "metadata": {
  "kernelspec": {
   "display_name": "Python [default]",
   "language": "python",
   "name": "python2"
  },
  "language_info": {
   "codemirror_mode": {
    "name": "ipython",
    "version": 2
   },
   "file_extension": ".py",
   "mimetype": "text/x-python",
   "name": "python",
   "nbconvert_exporter": "python",
   "pygments_lexer": "ipython2",
   "version": "2.7.13"
  }
 },
 "nbformat": 4,
 "nbformat_minor": 2
}
