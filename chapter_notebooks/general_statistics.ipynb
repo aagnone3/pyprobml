{
 "cells": [
  {
   "cell_type": "code",
   "execution_count": 1,
   "metadata": {},
   "outputs": [],
   "source": [
    "# imports"
   ]
  },
  {
   "cell_type": "markdown",
   "metadata": {},
   "source": [
    "# Sufficient Statistics\n",
    "Formally, $s(D)$ is a sufficient statistic for a data set $D$ if $$p(\\theta | D) = p(\\theta | s(D))$$. In words, this means that whether we are given the data set $D$ or <b>only</b> its sufficient statistic(s) $s(D)$, we will infer the same model parameter(s) $\\theta$. They are called \"sufficient\" statistics since they are sufficient to <b>completely</b> describe the data $D$ <b>without</b> the data itself.\n",
    "\n",
    "Ex: a data set of Gaussian random variables, of which $s(D) = \\{\\mu, \\sigma\\}$."
   ]
  },
  {
   "cell_type": "markdown",
   "metadata": {},
   "source": [
    "# Conjugate Priors\n",
    "A prior $p(\\theta)$ is a conjugate prior for a likelihood $p(D|\\theta)$ if $p(\\theta)$ has the same functional form as $p(D|\\theta)$. The benefit of this is that the multiplication of the two to form the posterior distribution is greatly simplified."
   ]
  },
  {
   "cell_type": "code",
   "execution_count": null,
   "metadata": {},
   "outputs": [],
   "source": []
  }
 ],
 "metadata": {
  "kernelspec": {
   "display_name": "Python [default]",
   "language": "python",
   "name": "python2"
  },
  "language_info": {
   "codemirror_mode": {
    "name": "ipython",
    "version": 2
   },
   "file_extension": ".py",
   "mimetype": "text/x-python",
   "name": "python",
   "nbconvert_exporter": "python",
   "pygments_lexer": "ipython2",
   "version": "2.7.13"
  }
 },
 "nbformat": 4,
 "nbformat_minor": 2
}
